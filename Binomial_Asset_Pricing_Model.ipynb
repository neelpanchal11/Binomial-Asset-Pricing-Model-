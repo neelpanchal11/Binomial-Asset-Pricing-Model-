{
  "nbformat": 4,
  "nbformat_minor": 0,
  "metadata": {
    "colab": {
      "provenance": [],
      "authorship_tag": "ABX9TyMM/Dk18g5TjWxycLA2K3G1",
      "include_colab_link": true
    },
    "kernelspec": {
      "name": "python3",
      "display_name": "Python 3"
    },
    "language_info": {
      "name": "python"
    }
  },
  "cells": [
    {
      "cell_type": "markdown",
      "metadata": {
        "id": "view-in-github",
        "colab_type": "text"
      },
      "source": [
        "<a href=\"https://colab.research.google.com/github/neelpanchal11/Binomial-Asset-Pricing-Model-/blob/main/Binomial_Asset_Pricing_Model.ipynb\" target=\"_parent\"><img src=\"https://colab.research.google.com/assets/colab-badge.svg\" alt=\"Open In Colab\"/></a>"
      ]
    },
    {
      "cell_type": "markdown",
      "source": [
        "# **Binomial Asset Pricing Model - Choosing Parameters**"
      ],
      "metadata": {
        "id": "7s4rccp3p5-t"
      }
    },
    {
      "cell_type": "code",
      "execution_count": 1,
      "metadata": {
        "id": "M78gg8_jEzjX"
      },
      "outputs": [],
      "source": [
        "import numpy as np"
      ]
    },
    {
      "cell_type": "markdown",
      "source": [
        "Binomial Tree Representation.\n",
        "\n",
        "For this study, we will price a European Call."
      ],
      "metadata": {
        "id": "cgNgI9YSqYT4"
      }
    },
    {
      "cell_type": "code",
      "source": [
        "# Initialise parameters\n",
        "S0 = 100      # initial stock price\n",
        "K = 110       # strike price\n",
        "T = 0.5       # time to maturity in years\n",
        "r = 0.06      # annual risk-free rate\n",
        "N = 100       # number of time steps\n",
        "sigma = 0.3   # Annualised stock price volatility\n",
        "opttype = 'C' # Option Type 'C' or 'P'\n"
      ],
      "metadata": {
        "id": "nGPyKgg7qRPl"
      },
      "execution_count": 2,
      "outputs": []
    },
    {
      "cell_type": "markdown",
      "source": [
        "## **Cox, Ross, and Rubinstein (CRR) Method**\n",
        "\n",
        "Here, we choose equal jump sizes."
      ],
      "metadata": {
        "id": "VEbIDvwsqmFz"
      }
    },
    {
      "cell_type": "code",
      "source": [
        "def CRR_method(K,T,S0,r,N,sigma,opttype='C'):\n",
        "    #precomute constants\n",
        "    dt = T/N\n",
        "    u = np.exp(sigma*np.sqrt(dt))\n",
        "    d = 1/u\n",
        "    q = (np.exp(r*dt) - d) / (u-d)\n",
        "    disc = np.exp(-r*dt)\n",
        "\n",
        "    # initialise asset prices at maturity - Time step N\n",
        "    S = np.zeros(N+1)\n",
        "    S[0] = S0*d**N\n",
        "    for j in range(1,N+1):\n",
        "        S[j] = S[j-1]*u/d\n",
        "\n",
        "    # initialise option values at maturity\n",
        "    C = np.zeros(N+1)\n",
        "    for j in range(0,N+1):\n",
        "        if opttype == 'C':\n",
        "            C[j] = max(0, S[j]-K)\n",
        "        else:\n",
        "            C[j] = max(0, K - S[j])\n",
        "\n",
        "    # step backwards through tree\n",
        "    for i in np.arange(N,0,-1):\n",
        "        for j in range(0,i):\n",
        "            C[j] = disc * ( q*C[j+1] + (1-q)*C[j] )\n",
        "\n",
        "    return C[0]\n",
        "\n",
        "CRR_method(K,T,S0,r,N,sigma,opttype='C')"
      ],
      "metadata": {
        "colab": {
          "base_uri": "https://localhost:8080/"
        },
        "id": "CX10uV1sqZP4",
        "outputId": "9c8207e2-5000-449d-fd4f-fc09aef3dfff"
      },
      "execution_count": 3,
      "outputs": [
        {
          "output_type": "execute_result",
          "data": {
            "text/plain": [
              "5.77342630682585"
            ]
          },
          "metadata": {},
          "execution_count": 3
        }
      ]
    },
    {
      "cell_type": "markdown",
      "source": [
        "## **Jarrow and Rudd (JR) Method**\n",
        "\n",
        "Here, we choose equal risk-neutral probabilities."
      ],
      "metadata": {
        "id": "UD9cVo6Sq8SV"
      }
    },
    {
      "cell_type": "code",
      "source": [
        "def JR_method(K,T,S0,r,N,sigma,opttype='C'):\n",
        "    #precomute constants\n",
        "    dt = T/N\n",
        "    nu = r - 0.5*sigma**2\n",
        "    u = np.exp(nu*dt + sigma*np.sqrt(dt))\n",
        "    d = np.exp(nu*dt - sigma*np.sqrt(dt))\n",
        "    q = 0.5\n",
        "    disc = np.exp(-r*dt)\n",
        "\n",
        "    # initialise asset prices at maturity - Time step N\n",
        "    S = np.zeros(N+1)\n",
        "    S[0] = S0*d**N\n",
        "    for j in range(1,N+1):\n",
        "        S[j] = S[j-1]*u/d\n",
        "\n",
        "    # initialise option values at maturity\n",
        "    C = np.zeros(N+1)\n",
        "    for j in range(0,N+1):\n",
        "        if opttype == 'C':\n",
        "            C[j] = max(0, S[j]-K)\n",
        "        else:\n",
        "            C[j] = max(0, K - S[j])\n",
        "\n",
        "    # step backwards through tree\n",
        "    for i in np.arange(N,0,-1):\n",
        "        for j in range(0,i):\n",
        "            C[j] = disc * ( q*C[j+1] + (1-q)*C[j] )\n",
        "\n",
        "    return C[0]\n",
        "\n",
        "JR_method(K,T,S0,r,N,sigma,opttype='C')"
      ],
      "metadata": {
        "colab": {
          "base_uri": "https://localhost:8080/"
        },
        "id": "kFCfTmW4rMyP",
        "outputId": "fdf6578d-d011-454b-b104-46ed380bb0b8"
      },
      "execution_count": 4,
      "outputs": [
        {
          "output_type": "execute_result",
          "data": {
            "text/plain": [
              "5.754089414567556"
            ]
          },
          "metadata": {},
          "execution_count": 4
        }
      ]
    },
    {
      "cell_type": "markdown",
      "source": [
        "## **Equal Probabilities (EQP) Method**\n",
        "\n",
        "Here, we choose equal risk-neutral probabilities under the logarithmic asset pricing tree."
      ],
      "metadata": {
        "id": "olUDWyC2rQEF"
      }
    },
    {
      "cell_type": "code",
      "source": [
        "def EQP_method(K,T,S0,r,N,sigma,opttype='C'):\n",
        "    #precomute constants\n",
        "    dt = T/N\n",
        "    nu = r - 0.5*sigma**2\n",
        "    dxu = 0.5*nu*dt + 0.5*np.sqrt(4*sigma**2 * dt - 3*nu**2 * dt**2)\n",
        "    dxd = 1.5*nu*dt - 0.5*np.sqrt(4*sigma**2 * dt - 3*nu**2 * dt**2)\n",
        "    pu = 0.5\n",
        "    pd = 1-pu\n",
        "    disc = np.exp(-r*dt)\n",
        "\n",
        "    # initialise asset prices at maturity - Time step N\n",
        "    S = np.zeros(N+1)\n",
        "    S[0] = S0*np.exp(N*dxd)\n",
        "    for j in range(1,N+1):\n",
        "        S[j] = S[j-1]*np.exp(dxu - dxd)\n",
        "\n",
        "    # initialise option values at maturity\n",
        "    C = np.zeros(N+1)\n",
        "    for j in range(0,N+1):\n",
        "        if opttype == 'C':\n",
        "            C[j] = max(0, S[j]-K)\n",
        "        else:\n",
        "            C[j] = max(0, K - S[j])\n",
        "\n",
        "    # step backwards through tree\n",
        "    for i in np.arange(N,0,-1):\n",
        "        for j in range(0,i):\n",
        "            C[j] = disc * ( pu*C[j+1] + pd*C[j] )\n",
        "\n",
        "    return C[0]\n",
        "\n",
        "EQP_method(K,T,S0,r,N,sigma,opttype='C')"
      ],
      "metadata": {
        "colab": {
          "base_uri": "https://localhost:8080/"
        },
        "id": "FlDoGTmOrfdg",
        "outputId": "74832f9b-8abd-4f17-e3d2-6a21fbd02067"
      },
      "execution_count": 5,
      "outputs": [
        {
          "output_type": "execute_result",
          "data": {
            "text/plain": [
              "5.7365844788666545"
            ]
          },
          "metadata": {},
          "execution_count": 5
        }
      ]
    },
    {
      "cell_type": "markdown",
      "source": [
        "## **Trigeorgis (TRG) Method**\n",
        "\n",
        "Here, we choose equal jump sizes under the logarithmic asset pricing tree."
      ],
      "metadata": {
        "id": "BVTmwiVBriF_"
      }
    },
    {
      "cell_type": "code",
      "source": [
        "def TRG_method(K,T,S0,r,N,sigma,opttype='C'):\n",
        "    #precomute constants\n",
        "    dt = T/N\n",
        "    nu = r - 0.5*sigma**2\n",
        "    dxu = np.sqrt(sigma**2 * dt + nu**2 * dt**2)\n",
        "    dxd = -dxu\n",
        "    pu = 0.5 + 0.5*nu*dt/dxu\n",
        "    pd = 1-pu\n",
        "    disc = np.exp(-r*dt)\n",
        "\n",
        "    # initialise asset prices at maturity - Time step N\n",
        "    S = np.zeros(N+1)\n",
        "    S[0] = S0*np.exp(N*dxd)\n",
        "    for j in range(1,N+1):\n",
        "        S[j] = S[j-1]*np.exp(dxu - dxd)\n",
        "\n",
        "    # initialise option values at maturity\n",
        "    C = np.zeros(N+1)\n",
        "    for j in range(0,N+1):\n",
        "        if opttype == 'C':\n",
        "            C[j] = max(0, S[j]-K)\n",
        "        else:\n",
        "            C[j] = max(0, K - S[j])\n",
        "\n",
        "    # step backwards through tree\n",
        "    for i in np.arange(N,0,-1):\n",
        "        for j in range(0,i):\n",
        "            C[j] = disc * ( pu*C[j+1] + pd*C[j] )\n",
        "\n",
        "    return C[0]\n",
        "\n",
        "TRG_method(K,T,S0,r,N,sigma,opttype='C')"
      ],
      "metadata": {
        "colab": {
          "base_uri": "https://localhost:8080/"
        },
        "id": "Ie1ylDDBrpW6",
        "outputId": "58f76d4a-4359-4946-db2d-54c264770618"
      },
      "execution_count": 6,
      "outputs": [
        {
          "output_type": "execute_result",
          "data": {
            "text/plain": [
              "5.773359020180677"
            ]
          },
          "metadata": {},
          "execution_count": 6
        }
      ]
    },
    {
      "cell_type": "markdown",
      "source": [
        "## **Comparison of Methods**\n",
        "Now, we will compare convergence as a function of time steps."
      ],
      "metadata": {
        "id": "CvQTOQ6ktsj-"
      }
    },
    {
      "cell_type": "code",
      "source": [
        "!pip install py_vollib"
      ],
      "metadata": {
        "colab": {
          "base_uri": "https://localhost:8080/"
        },
        "id": "vnRtDnBatx5k",
        "outputId": "4f41def1-2509-45f6-a53d-19b1339b8198"
      },
      "execution_count": 7,
      "outputs": [
        {
          "output_type": "stream",
          "name": "stdout",
          "text": [
            "Collecting py_vollib\n",
            "  Downloading py_vollib-1.0.1.tar.gz (19 kB)\n",
            "  Preparing metadata (setup.py) ... \u001b[?25l\u001b[?25hdone\n",
            "Collecting py_lets_be_rational (from py_vollib)\n",
            "  Downloading py_lets_be_rational-1.0.1.tar.gz (18 kB)\n",
            "  Preparing metadata (setup.py) ... \u001b[?25l\u001b[?25hdone\n",
            "Collecting simplejson (from py_vollib)\n",
            "  Downloading simplejson-3.19.3-cp310-cp310-manylinux_2_5_x86_64.manylinux1_x86_64.manylinux_2_17_x86_64.manylinux2014_x86_64.whl.metadata (3.2 kB)\n",
            "Requirement already satisfied: numpy in /usr/local/lib/python3.10/dist-packages (from py_vollib) (1.26.4)\n",
            "Requirement already satisfied: pandas in /usr/local/lib/python3.10/dist-packages (from py_vollib) (2.2.2)\n",
            "Requirement already satisfied: scipy in /usr/local/lib/python3.10/dist-packages (from py_vollib) (1.13.1)\n",
            "Requirement already satisfied: python-dateutil>=2.8.2 in /usr/local/lib/python3.10/dist-packages (from pandas->py_vollib) (2.8.2)\n",
            "Requirement already satisfied: pytz>=2020.1 in /usr/local/lib/python3.10/dist-packages (from pandas->py_vollib) (2024.2)\n",
            "Requirement already satisfied: tzdata>=2022.7 in /usr/local/lib/python3.10/dist-packages (from pandas->py_vollib) (2024.2)\n",
            "Requirement already satisfied: six>=1.5 in /usr/local/lib/python3.10/dist-packages (from python-dateutil>=2.8.2->pandas->py_vollib) (1.16.0)\n",
            "Downloading simplejson-3.19.3-cp310-cp310-manylinux_2_5_x86_64.manylinux1_x86_64.manylinux_2_17_x86_64.manylinux2014_x86_64.whl (137 kB)\n",
            "\u001b[2K   \u001b[90m━━━━━━━━━━━━━━━━━━━━━━━━━━━━━━━━━━━━━━━━\u001b[0m \u001b[32m137.9/137.9 kB\u001b[0m \u001b[31m5.2 MB/s\u001b[0m eta \u001b[36m0:00:00\u001b[0m\n",
            "\u001b[?25hBuilding wheels for collected packages: py_vollib, py_lets_be_rational\n",
            "  Building wheel for py_vollib (setup.py) ... \u001b[?25l\u001b[?25hdone\n",
            "  Created wheel for py_vollib: filename=py_vollib-1.0.1-py3-none-any.whl size=62832 sha256=1e06dc0e8851af80c31677408bf85f3b3b58cc8430e99b4e64a3abd20f53934f\n",
            "  Stored in directory: /root/.cache/pip/wheels/84/0c/fc/b68506eda40cccaeb0013be550ba904d253ec90eae2b156052\n",
            "  Building wheel for py_lets_be_rational (setup.py) ... \u001b[?25l\u001b[?25hdone\n",
            "  Created wheel for py_lets_be_rational: filename=py_lets_be_rational-1.0.1-py3-none-any.whl size=24450 sha256=9e86a2a2e65eb5e4632436afc54981276b0d0b7152d3f08a4cd456f2adba2a6f\n",
            "  Stored in directory: /root/.cache/pip/wheels/32/d9/4f/360d4b0b9ec7c65583ec7c8e72fd2158c97ad04fbcb932891c\n",
            "Successfully built py_vollib py_lets_be_rational\n",
            "Installing collected packages: simplejson, py_lets_be_rational, py_vollib\n",
            "Successfully installed py_lets_be_rational-1.0.1 py_vollib-1.0.1 simplejson-3.19.3\n"
          ]
        }
      ]
    },
    {
      "cell_type": "code",
      "source": [
        "from py_vollib.black_scholes import black_scholes as bs\n",
        "import matplotlib.pyplot as plt"
      ],
      "metadata": {
        "id": "YOyZBDNut0eZ"
      },
      "execution_count": 8,
      "outputs": []
    },
    {
      "cell_type": "code",
      "source": [
        "## call option with different steps\n",
        "CRR, JR, EQP, TRG = [],[],[],[]\n",
        "\n",
        "periods = range(10,500,10)\n",
        "for N in periods:\n",
        "    CRR.append(CRR_method(K,T,S0,r,N,sigma,opttype='C'))\n",
        "    JR.append(JR_method(K,T,S0,r,N,sigma,opttype='C'))\n",
        "    EQP.append(EQP_method(K,T,S0,r,N,sigma,opttype='C'))\n",
        "    TRG.append(TRG_method(K,T,S0,r,N,sigma,opttype='C'))\n",
        "\n",
        "BS = [bs('c', S0, K, T, r, sigma) for i in periods]\n",
        "\n",
        "plt.plot(periods, CRR, label='Cox_Ross_Rubinstein')\n",
        "plt.plot(periods, JR, label='Jarrow_Rudd')\n",
        "plt.plot(periods, EQP, label='EQP')\n",
        "plt.plot(periods, TRG, 'r--',label='Trigeorgis')\n",
        "plt.plot(periods, BS, 'k',label='Black-Scholes')\n",
        "plt.legend(loc='upper right')\n",
        "plt.show()"
      ],
      "metadata": {
        "colab": {
          "base_uri": "https://localhost:8080/",
          "height": 430
        },
        "id": "PysnWftQt2y-",
        "outputId": "7b642788-fd67-42f7-be1c-52161a1724bf"
      },
      "execution_count": 9,
      "outputs": [
        {
          "output_type": "display_data",
          "data": {
            "text/plain": [
              "<Figure size 640x480 with 1 Axes>"
            ],
            "image/png": "[encoded data removed]"
          },
          "metadata": {}
        }
      ]
    }
  ]
}